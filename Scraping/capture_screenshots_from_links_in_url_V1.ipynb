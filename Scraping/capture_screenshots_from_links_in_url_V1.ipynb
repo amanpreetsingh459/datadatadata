{
 "cells": [
  {
   "cell_type": "code",
   "execution_count": 45,
   "metadata": {},
   "outputs": [],
   "source": [
    "from bs4 import BeautifulSoup\n",
    "import urllib.request\n",
    "\n",
    "from selenium import webdriver"
   ]
  },
  {
   "cell_type": "code",
   "execution_count": 46,
   "metadata": {},
   "outputs": [],
   "source": [
    "import traceback\n",
    "import os\n",
    "import datetime"
   ]
  },
  {
   "cell_type": "code",
   "execution_count": 47,
   "metadata": {},
   "outputs": [],
   "source": [
    "def get_all_links(url):\n",
    "    resp = urllib.request.urlopen(url)\n",
    "    soup = BeautifulSoup(resp, from_encoding=resp.info().get_param('charset'))\n",
    "    all_links = []\n",
    "    for link in soup.find_all('a', href=True):\n",
    "        #print(link['href'])\n",
    "        all_links.append(link['href'])\n",
    "    \n",
    "    return all_links"
   ]
  },
  {
   "cell_type": "code",
   "execution_count": 51,
   "metadata": {},
   "outputs": [],
   "source": [
    "def save_screenshots(destination_path):\n",
    "    with webdriver.Chrome(chrome_driver_path) as driver:\n",
    "        for i in range(len(all_urls)):            \n",
    "            try:\n",
    "                print(\"Processing \", all_urls[i])\n",
    "                driver.get(all_urls[i])\n",
    "                driver.save_screenshot(destination_path + \"/\" + \"screenshot_\" + str(i) + \".png\")\n",
    "                print(\"screenshot saved successfully\")\n",
    "            except:\n",
    "                print(\"Error capturing screenshot for the above url-----------------------------------\")\n",
    "                #print(\"Error saving the screenshot for {} url. Complete error below:------------\".format(all_urls[i]))\n",
    "                #print(traceback.format_exc())"
   ]
  },
  {
   "cell_type": "code",
   "execution_count": 49,
   "metadata": {},
   "outputs": [],
   "source": [
    "def create_destination_directory():\n",
    "    currentDT = datetime.datetime.now()\n",
    "    destination_path = 'screenshots/' + 'screenshots_' + str(currentDT).replace(' ', '_').replace(':','_')\n",
    "    os.mkdir(destination_path)\n",
    "    \n",
    "    return destination_path"
   ]
  },
  {
   "cell_type": "code",
   "execution_count": 50,
   "metadata": {},
   "outputs": [
    {
     "name": "stdout",
     "output_type": "stream",
     "text": [
      "Processing  https://www.google.co.in/imghp?hl=en&tab=wi\n",
      "saved successfully\n",
      "Processing  https://maps.google.co.in/maps?hl=en&tab=wl\n",
      "saved successfully\n",
      "Processing  https://play.google.com/?hl=en&tab=w8\n",
      "saved successfully\n",
      "Processing  https://www.youtube.com/?gl=IN&tab=w1\n",
      "saved successfully\n",
      "Processing  https://news.google.co.in/nwshp?hl=en&tab=wn\n",
      "saved successfully\n",
      "Processing  https://mail.google.com/mail/?tab=wm\n",
      "saved successfully\n",
      "Processing  https://drive.google.com/?tab=wo\n",
      "saved successfully\n",
      "Processing  https://www.google.co.in/intl/en/about/products?tab=wh\n",
      "saved successfully\n",
      "Processing  http://www.google.co.in/history/optout?hl=en\n",
      "saved successfully\n",
      "Processing  /preferences?hl=en\n",
      "Error---------------------------------------------------------\n",
      "Processing  https://accounts.google.com/ServiceLogin?hl=en&passive=true&continue=https://www.google.com/\n",
      "saved successfully\n",
      "Processing  /advanced_search?hl=en-IN&authuser=0\n",
      "Error---------------------------------------------------------\n",
      "Processing  /language_tools?hl=en-IN&authuser=0\n",
      "Error---------------------------------------------------------\n",
      "Processing  https://www.google.com/setprefs?sig=0_sQj_xysRGIr7VgcOpcJuMPde-cU%3D&hl=hi&source=homepage&sa=X&ved=0ahUKEwiOs6iQh7biAhXHF3IKHR1uCNsQ2ZgBCAU\n",
      "saved successfully\n",
      "Processing  https://www.google.com/setprefs?sig=0_sQj_xysRGIr7VgcOpcJuMPde-cU%3D&hl=bn&source=homepage&sa=X&ved=0ahUKEwiOs6iQh7biAhXHF3IKHR1uCNsQ2ZgBCAY\n",
      "saved successfully\n",
      "Processing  https://www.google.com/setprefs?sig=0_sQj_xysRGIr7VgcOpcJuMPde-cU%3D&hl=te&source=homepage&sa=X&ved=0ahUKEwiOs6iQh7biAhXHF3IKHR1uCNsQ2ZgBCAc\n",
      "saved successfully\n",
      "Processing  https://www.google.com/setprefs?sig=0_sQj_xysRGIr7VgcOpcJuMPde-cU%3D&hl=mr&source=homepage&sa=X&ved=0ahUKEwiOs6iQh7biAhXHF3IKHR1uCNsQ2ZgBCAg\n",
      "saved successfully\n",
      "Processing  https://www.google.com/setprefs?sig=0_sQj_xysRGIr7VgcOpcJuMPde-cU%3D&hl=ta&source=homepage&sa=X&ved=0ahUKEwiOs6iQh7biAhXHF3IKHR1uCNsQ2ZgBCAk\n",
      "saved successfully\n",
      "Processing  https://www.google.com/setprefs?sig=0_sQj_xysRGIr7VgcOpcJuMPde-cU%3D&hl=gu&source=homepage&sa=X&ved=0ahUKEwiOs6iQh7biAhXHF3IKHR1uCNsQ2ZgBCAo\n",
      "saved successfully\n",
      "Processing  https://www.google.com/setprefs?sig=0_sQj_xysRGIr7VgcOpcJuMPde-cU%3D&hl=kn&source=homepage&sa=X&ved=0ahUKEwiOs6iQh7biAhXHF3IKHR1uCNsQ2ZgBCAs\n",
      "saved successfully\n",
      "Processing  https://www.google.com/setprefs?sig=0_sQj_xysRGIr7VgcOpcJuMPde-cU%3D&hl=ml&source=homepage&sa=X&ved=0ahUKEwiOs6iQh7biAhXHF3IKHR1uCNsQ2ZgBCAw\n",
      "saved successfully\n",
      "Processing  https://www.google.com/setprefs?sig=0_sQj_xysRGIr7VgcOpcJuMPde-cU%3D&hl=pa&source=homepage&sa=X&ved=0ahUKEwiOs6iQh7biAhXHF3IKHR1uCNsQ2ZgBCA0\n",
      "saved successfully\n",
      "Processing  /intl/en/ads/\n",
      "Error---------------------------------------------------------\n",
      "Processing  http://www.google.co.in/services/\n",
      "saved successfully\n",
      "Processing  /intl/en/about.html\n",
      "Error---------------------------------------------------------\n",
      "Processing  https://www.google.com/setprefdomain?prefdom=IN&prev=https://www.google.co.in/&sig=K_226iHNyA3WG-cAQmPGs1C3Zc9oQ%3D\n",
      "saved successfully\n",
      "Processing  /intl/en/policies/privacy/\n",
      "Error---------------------------------------------------------\n",
      "Processing  /intl/en/policies/terms/\n",
      "Error---------------------------------------------------------\n"
     ]
    }
   ],
   "source": [
    "chrome_driver_path = \"C:/Users/amanpreet_singh/Documents/_practice/Homework/Assignment2_CNNs/chromedriver\"\n",
    "\n",
    "source_url = \"https://www.google.com\"\n",
    "all_urls = get_all_links(source_url)\n",
    "\n",
    "destination_directory = create_destination_directory()\n",
    "\n",
    "\n",
    "save_screenshots(destination_directory)"
   ]
  },
  {
   "cell_type": "code",
   "execution_count": null,
   "metadata": {},
   "outputs": [],
   "source": []
  }
 ],
 "metadata": {
  "kernelspec": {
   "display_name": "Python 3",
   "language": "python",
   "name": "python3"
  },
  "language_info": {
   "codemirror_mode": {
    "name": "ipython",
    "version": 3
   },
   "file_extension": ".py",
   "mimetype": "text/x-python",
   "name": "python",
   "nbconvert_exporter": "python",
   "pygments_lexer": "ipython3",
   "version": "3.7.3"
  }
 },
 "nbformat": 4,
 "nbformat_minor": 2
}
