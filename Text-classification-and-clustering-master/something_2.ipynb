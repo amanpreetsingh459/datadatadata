{
 "cells": [
  {
   "cell_type": "code",
   "execution_count": 2,
   "metadata": {},
   "outputs": [],
   "source": [
    "from sklearn.feature_extraction.text import TfidfVectorizer\n",
    "from sklearn.cluster import KMeans\n",
    "import xlsxwriter"
   ]
  },
  {
   "cell_type": "code",
   "execution_count": 3,
   "metadata": {},
   "outputs": [],
   "source": [
    "# the list of documents, sometimes referred to as 'corpus'\n",
    "list_of_documents = [\"Python is a popular programming language.\",\n",
    "             \"I do not like snakes, including Pythons.\",\n",
    "             \"Some of Monty Python's shows were really fun.\",\n",
    "             \"Python is a funny name for a programming language.\",\n",
    "             \"Pythons are a family of nonvenomous snakes found in Africa, Asia, and Australia.\"]"
   ]
  },
  {
   "cell_type": "code",
   "execution_count": 4,
   "metadata": {},
   "outputs": [],
   "source": [
    "# create the vectorizer and let it know that you want to get rid of english stop words, like 'a', 'the', ..\n",
    "my_vectorizer = TfidfVectorizer(stop_words='english')"
   ]
  },
  {
   "cell_type": "code",
   "execution_count": 5,
   "metadata": {},
   "outputs": [],
   "source": [
    "# the vectorizer returns a sparse array ..\n",
    "my_sparseArray = my_vectorizer.fit_transform(list_of_documents)"
   ]
  },
  {
   "cell_type": "code",
   "execution_count": 6,
   "metadata": {},
   "outputs": [],
   "source": [
    "#  ... for better understanding, we convert it into a standard matrix\n",
    "myArray = my_sparseArray.toarray()"
   ]
  },
  {
   "cell_type": "code",
   "execution_count": 7,
   "metadata": {},
   "outputs": [
    {
     "name": "stdout",
     "output_type": "stream",
     "text": [
      "(5, 18)\n"
     ]
    }
   ],
   "source": [
    "# let's get the dimensions of our array\n",
    "print(myArray.shape)"
   ]
  },
  {
   "cell_type": "code",
   "execution_count": 9,
   "metadata": {},
   "outputs": [
    {
     "name": "stdout",
     "output_type": "stream",
     "text": [
      "['africa', 'asia', 'australia', 'family', 'fun', 'funny', 'including', 'language', 'like', 'monty', 'nonvenomous', 'popular', 'programming', 'python', 'pythons', 'really', 'shows', 'snakes']\n"
     ]
    }
   ],
   "source": [
    "# and see what words are actually our features\n",
    "features = my_vectorizer.get_feature_names()\n",
    "print(features)"
   ]
  },
  {
   "cell_type": "code",
   "execution_count": null,
   "metadata": {},
   "outputs": [],
   "source": []
  },
  {
   "cell_type": "code",
   "execution_count": 38,
   "metadata": {},
   "outputs": [],
   "source": [
    "# we create a workbook and worksheet to write the data\n",
    "workbook = xlsxwriter.Workbook(\"Tfidf_test1.xlsx\")\n",
    "worksheet = workbook.add_worksheet()"
   ]
  },
  {
   "cell_type": "code",
   "execution_count": 39,
   "metadata": {},
   "outputs": [],
   "source": [
    "# now we see the words that were extracted, i.e. stopwords are removed\n",
    "col = 0\n",
    "for word in features:\n",
    "    worksheet.write(0, col, word)\n",
    "    col += 1"
   ]
  },
  {
   "cell_type": "code",
   "execution_count": 40,
   "metadata": {},
   "outputs": [
    {
     "data": {
      "text/plain": [
       "(5, 18)"
      ]
     },
     "execution_count": 40,
     "metadata": {},
     "output_type": "execute_result"
    }
   ],
   "source": [
    "myArray.shape"
   ]
  },
  {
   "cell_type": "code",
   "execution_count": 41,
   "metadata": {},
   "outputs": [
    {
     "name": "stdout",
     "output_type": "stream",
     "text": [
      "0\n",
      "1\n",
      "2\n",
      "3\n",
      "4\n",
      "5\n",
      "6\n",
      "7\n",
      "8\n",
      "9\n",
      "10\n",
      "11\n",
      "12\n",
      "13\n",
      "14\n",
      "15\n",
      "16\n",
      "17\n"
     ]
    }
   ],
   "source": [
    "# now let's add the feature matrix\n",
    "for j in range(myArray.shape[1]):\n",
    "    print(j)\n",
    "    for i in range(myArray.shape[0]):\n",
    "        worksheet.write(i+1, j, myArray[i][j] )\n",
    "    last_row = i + 3    # let's remember the last row and add an empty one"
   ]
  },
  {
   "cell_type": "code",
   "execution_count": 42,
   "metadata": {},
   "outputs": [
    {
     "data": {
      "text/plain": [
       "KMeans(algorithm='auto', copy_x=True, init='k-means++', max_iter=100,\n",
       "    n_clusters=2, n_init=1, n_jobs=None, precompute_distances='auto',\n",
       "    random_state=None, tol=0.0001, verbose=0)"
      ]
     },
     "execution_count": 42,
     "metadata": {},
     "output_type": "execute_result"
    }
   ],
   "source": [
    "# find cluster specified number of clusters in the array using the KMeans algorithm\n",
    "number_of_clusters = 2\n",
    "model = KMeans(n_clusters=number_of_clusters, init='k-means++', max_iter=100, n_init=1)\n",
    "model.fit(my_sparseArray)"
   ]
  },
  {
   "cell_type": "code",
   "execution_count": 43,
   "metadata": {},
   "outputs": [
    {
     "data": {
      "text/plain": [
       "(2, 18)"
      ]
     },
     "execution_count": 43,
     "metadata": {},
     "output_type": "execute_result"
    }
   ],
   "source": [
    "# let' get the cluster coordinates and add them to the excel\n",
    "cluster_coordinates = model.cluster_centers_\n",
    "cluster_coordinates.shape"
   ]
  },
  {
   "cell_type": "code",
   "execution_count": 44,
   "metadata": {},
   "outputs": [
    {
     "name": "stdout",
     "output_type": "stream",
     "text": [
      "[0.19917581 0.19917581 0.19917581 0.19917581 0.         0.\n",
      " 0.27516457 0.         0.27516457 0.         0.19917581 0.\n",
      " 0.         0.         0.38269483 0.         0.         0.38269483]\n",
      "--------------------------------\n",
      "[0.         0.         0.         0.         0.15804155 0.20099492\n",
      " 0.         0.32432288 0.         0.15804155 0.         0.20099492\n",
      " 0.32432288 0.37505955 0.         0.15804155 0.15804155 0.        ]\n"
     ]
    }
   ],
   "source": [
    "print(cluster_coordinates[0])\n",
    "print(\"--------------------------------\")\n",
    "print(cluster_coordinates[1])"
   ]
  },
  {
   "cell_type": "code",
   "execution_count": 45,
   "metadata": {},
   "outputs": [
    {
     "name": "stdout",
     "output_type": "stream",
     "text": [
      "0\n",
      "1\n",
      "2\n",
      "3\n",
      "4\n",
      "5\n",
      "6\n",
      "7\n",
      "8\n",
      "9\n",
      "10\n",
      "11\n",
      "12\n",
      "13\n",
      "14\n",
      "15\n",
      "16\n",
      "17\n"
     ]
    }
   ],
   "source": [
    "for j in range(cluster_coordinates.shape[1]):\n",
    "    print(j)\n",
    "    for i in range(cluster_coordinates.shape[0]):\n",
    "        worksheet.write(last_row + i, j, cluster_coordinates[i][j] )\n",
    "\n",
    "workbook.close()        # close the excel file, otherwise it would not be properly created"
   ]
  },
  {
   "cell_type": "markdown",
   "metadata": {},
   "source": [
    "## testing on new data and writing it into the excel"
   ]
  },
  {
   "cell_type": "code",
   "execution_count": 46,
   "metadata": {},
   "outputs": [
    {
     "data": {
      "text/plain": [
       "(1, 18)"
      ]
     },
     "execution_count": 46,
     "metadata": {},
     "output_type": "execute_result"
    }
   ],
   "source": [
    "T = my_vectorizer.transform([\"I like programming.\"])\n",
    "Tarray = T.toarray()\n",
    "Tarray.shape"
   ]
  },
  {
   "cell_type": "code",
   "execution_count": 47,
   "metadata": {},
   "outputs": [],
   "source": [
    "for j in range(Tarray.shape[1]):\n",
    "    worksheet.write(last_row + 3, j, Tarray[0][j])"
   ]
  },
  {
   "cell_type": "code",
   "execution_count": 48,
   "metadata": {},
   "outputs": [],
   "source": [
    "classification = model.predict(T)"
   ]
  },
  {
   "cell_type": "code",
   "execution_count": 49,
   "metadata": {},
   "outputs": [
    {
     "name": "stdout",
     "output_type": "stream",
     "text": [
      "[1]\n"
     ]
    }
   ],
   "source": [
    "print(classification)"
   ]
  },
  {
   "cell_type": "code",
   "execution_count": 50,
   "metadata": {},
   "outputs": [],
   "source": [
    "workbook.close()        # moved from above to here to close the excel file"
   ]
  },
  {
   "cell_type": "code",
   "execution_count": null,
   "metadata": {},
   "outputs": [],
   "source": []
  },
  {
   "cell_type": "code",
   "execution_count": null,
   "metadata": {},
   "outputs": [],
   "source": []
  }
 ],
 "metadata": {
  "kernelspec": {
   "display_name": "Python 3",
   "language": "python",
   "name": "python3"
  },
  "language_info": {
   "codemirror_mode": {
    "name": "ipython",
    "version": 3
   },
   "file_extension": ".py",
   "mimetype": "text/x-python",
   "name": "python",
   "nbconvert_exporter": "python",
   "pygments_lexer": "ipython3",
   "version": "3.7.3"
  }
 },
 "nbformat": 4,
 "nbformat_minor": 2
}
