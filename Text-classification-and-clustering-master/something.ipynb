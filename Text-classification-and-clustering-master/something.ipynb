{
 "cells": [
  {
   "cell_type": "code",
   "execution_count": 1,
   "metadata": {},
   "outputs": [],
   "source": [
    "# Importing libraries\n",
    "from sklearn.feature_extraction.text import TfidfVectorizer\n",
    "from sklearn.neighbors import KNeighborsClassifier\n",
    "from sklearn.cluster import KMeans\n",
    "from nltk.corpus import stopwords \n",
    "from nltk.stem.wordnet import WordNetLemmatizer\n",
    "import string\n",
    "import re\n",
    "import numpy as np\n",
    "from collections import Counter"
   ]
  },
  {
   "cell_type": "code",
   "execution_count": 2,
   "metadata": {},
   "outputs": [],
   "source": [
    "stop = set(stopwords.words('english'))\n",
    "exclude = set(string.punctuation) \n",
    "lemma = WordNetLemmatizer()"
   ]
  },
  {
   "cell_type": "code",
   "execution_count": 3,
   "metadata": {},
   "outputs": [],
   "source": [
    "# Cleaning the text sentences so that punctuation marks, stop words & digits are removed  \n",
    "def clean(doc):\n",
    "    stop_free = \" \".join([i for i in doc.lower().split() if i not in stop])\n",
    "    punc_free = ''.join(ch for ch in stop_free if ch not in exclude)\n",
    "    normalized = \" \".join(lemma.lemmatize(word) for word in punc_free.split())\n",
    "    processed = re.sub(r\"\\d+\",\"\",normalized)\n",
    "    y = processed.split()\n",
    "    return y"
   ]
  },
  {
   "cell_type": "code",
   "execution_count": 5,
   "metadata": {},
   "outputs": [
    {
     "name": "stdout",
     "output_type": "stream",
     "text": [
      "There are 10 sentences of following three classes on which K-NN classification and K-means clustering is performed : \n",
      "1. Cricket \n",
      "2. Artificial Intelligence \n",
      "3. Chemistry\n"
     ]
    }
   ],
   "source": [
    "print(\"There are 10 sentences of following three classes on which K-NN classification and K-means clustering\"\\\n",
    "         \" is performed : \\n1. Cricket \\n2. Artificial Intelligence \\n3. Chemistry\")"
   ]
  },
  {
   "cell_type": "code",
   "execution_count": 6,
   "metadata": {},
   "outputs": [],
   "source": [
    "path = \"Sentences.txt\""
   ]
  },
  {
   "cell_type": "code",
   "execution_count": 7,
   "metadata": {},
   "outputs": [],
   "source": [
    "train_clean_sentences = []\n",
    "fp = open(path,'r')\n",
    "\n",
    "for line in fp:\n",
    "    line = line.strip()\n",
    "    cleaned = clean(line)\n",
    "    cleaned = ' '.join(cleaned)\n",
    "    train_clean_sentences.append(cleaned)"
   ]
  },
  {
   "cell_type": "code",
   "execution_count": 42,
   "metadata": {},
   "outputs": [
    {
     "data": {
      "text/plain": [
       "252"
      ]
     },
     "execution_count": 42,
     "metadata": {},
     "output_type": "execute_result"
    }
   ],
   "source": [
    "vocab = \" \".join(train_clean_sentences)\n",
    "vocab_size = len(list(set(vocab.split())))\n",
    "vocab_size"
   ]
  },
  {
   "cell_type": "code",
   "execution_count": 8,
   "metadata": {},
   "outputs": [],
   "source": [
    "vectorizer = TfidfVectorizer(stop_words='english')\n",
    "X = vectorizer.fit_transform(train_clean_sentences)"
   ]
  },
  {
   "cell_type": "code",
   "execution_count": 9,
   "metadata": {},
   "outputs": [],
   "source": [
    "# Creating true labels for 30 training sentences \n",
    "y_train = np.zeros(30)\n",
    "y_train[10:20] = 1\n",
    "y_train[20:30] = 2"
   ]
  },
  {
   "cell_type": "code",
   "execution_count": 10,
   "metadata": {},
   "outputs": [
    {
     "data": {
      "text/plain": [
       "array([0., 0., 0., 0., 0., 0., 0., 0., 0., 0., 1., 1., 1., 1., 1., 1., 1.,\n",
       "       1., 1., 1., 2., 2., 2., 2., 2., 2., 2., 2., 2., 2.])"
      ]
     },
     "execution_count": 10,
     "metadata": {},
     "output_type": "execute_result"
    }
   ],
   "source": [
    "y_train"
   ]
  },
  {
   "cell_type": "code",
   "execution_count": 11,
   "metadata": {},
   "outputs": [
    {
     "data": {
      "text/plain": [
       "KNeighborsClassifier(algorithm='auto', leaf_size=30, metric='minkowski',\n",
       "           metric_params=None, n_jobs=None, n_neighbors=5, p=2,\n",
       "           weights='uniform')"
      ]
     },
     "execution_count": 11,
     "metadata": {},
     "output_type": "execute_result"
    }
   ],
   "source": [
    "# Clustering the document with KNN classifier\n",
    "modelknn = KNeighborsClassifier(n_neighbors=5)\n",
    "modelknn.fit(X,y_train)"
   ]
  },
  {
   "cell_type": "code",
   "execution_count": 12,
   "metadata": {},
   "outputs": [
    {
     "data": {
      "text/plain": [
       "KMeans(algorithm='auto', copy_x=True, init='k-means++', max_iter=200,\n",
       "    n_clusters=3, n_init=100, n_jobs=None, precompute_distances='auto',\n",
       "    random_state=None, tol=0.0001, verbose=0)"
      ]
     },
     "execution_count": 12,
     "metadata": {},
     "output_type": "execute_result"
    }
   ],
   "source": [
    "# Clustering the training 30 sentences with K-means technique\n",
    "modelkmeans = KMeans(n_clusters=3, init='k-means++', max_iter=200, n_init=100)\n",
    "modelkmeans.fit(X)"
   ]
  },
  {
   "cell_type": "code",
   "execution_count": 13,
   "metadata": {},
   "outputs": [],
   "source": [
    "test_sentences = [\"Chemical compunds are used for preparing bombs based on some reactions\",\\\n",
    "                  \"Cricket is a boring game where the batsman only enjoys the game\",\\\n",
    "                  \"Machine learning is an area of Artificial intelligence\"]"
   ]
  },
  {
   "cell_type": "code",
   "execution_count": 14,
   "metadata": {},
   "outputs": [],
   "source": [
    "test_clean_sentence = []\n",
    "for test in test_sentences:\n",
    "    cleaned_test = clean(test)\n",
    "    cleaned = ' '.join(cleaned_test)\n",
    "    cleaned = re.sub(r\"\\d+\",\"\",cleaned)\n",
    "    test_clean_sentence.append(cleaned)\n",
    "    \n",
    "Test = vectorizer.transform(test_clean_sentence) "
   ]
  },
  {
   "cell_type": "code",
   "execution_count": 15,
   "metadata": {},
   "outputs": [],
   "source": [
    "true_test_labels = ['Cricket','AI','Chemistry']\n",
    "predicted_labels_knn = modelknn.predict(Test)\n",
    "predicted_labels_kmeans = modelkmeans.predict(Test)"
   ]
  },
  {
   "cell_type": "code",
   "execution_count": 21,
   "metadata": {},
   "outputs": [
    {
     "name": "stdout",
     "output_type": "stream",
     "text": [
      "\n",
      "Below 3 sentences will be predicted against the learned nieghbourhood and learned clusters:\n",
      "1.  Chemical compunds are used for preparing bombs based on some reactions \n",
      "2.  Cricket is a boring game where the batsman only enjoys the game \n",
      "3.  Machine learning is an area of Artificial intelligence\n"
     ]
    }
   ],
   "source": [
    "print(\"\\nBelow 3 sentences will be predicted against the learned nieghbourhood and learned clusters:\\n1. \",\\\n",
    "        test_sentences[0],\"\\n2. \",test_sentences[1],\"\\n3. \",test_sentences[2])"
   ]
  },
  {
   "cell_type": "code",
   "execution_count": 23,
   "metadata": {},
   "outputs": [
    {
     "name": "stdout",
     "output_type": "stream",
     "text": [
      "\n",
      "-------------------------------PREDICTIONS BY KNN------------------------------------------\n",
      "\n",
      " Chemical compunds are used for preparing bombs based on some reactions : Chemistry \n",
      " Cricket is a boring game where the batsman only enjoys the game : Cricket \n",
      " Machine learning is an area of Artificial intelligence : AI\n"
     ]
    }
   ],
   "source": [
    "print(\"\\n-------------------------------PREDICTIONS BY KNN------------------------------------------\")\n",
    "print(\"\\n\",test_sentences[0],\":\",true_test_labels[np.int(predicted_labels_knn[0])],\\\n",
    "       \"\\n\",test_sentences[1],\":\",true_test_labels[np.int(predicted_labels_knn[1])],\\\n",
    "       \"\\n\",test_sentences[2],\":\",true_test_labels[np.int(predicted_labels_knn[2])])"
   ]
  },
  {
   "cell_type": "code",
   "execution_count": 24,
   "metadata": {},
   "outputs": [
    {
     "name": "stdout",
     "output_type": "stream",
     "text": [
      "\n",
      "-------------------------------PREDICTIONS BY K-Means--------------------------------------\n",
      "\n",
      "Index of Cricket cluster :  2\n",
      "Index of Artificial Intelligence cluster :  0\n",
      "Index of Chemistry cluster :  1\n",
      "\n",
      " Chemical compunds are used for preparing bombs based on some reactions : 1 \n",
      " Cricket is a boring game where the batsman only enjoys the game : 2 \n",
      " Machine learning is an area of Artificial intelligence : 0\n"
     ]
    }
   ],
   "source": [
    "print(\"\\n-------------------------------PREDICTIONS BY K-Means--------------------------------------\")\n",
    "print(\"\\nIndex of Cricket cluster : \",Counter(modelkmeans.labels_[0:10]).most_common(1)[0][0])\n",
    "print(\"Index of Artificial Intelligence cluster : \",Counter(modelkmeans.labels_[10:20]).most_common(1)[0][0] )\n",
    "print(\"Index of Chemistry cluster : \",Counter(modelkmeans.labels_[20:30]).most_common(1)[0][0])\n",
    "print(\"\\n\",test_sentences[0],\":\",predicted_labels_kmeans[0],\\\n",
    "        \"\\n\",test_sentences[1],\":\",predicted_labels_kmeans[1],\\\n",
    "        \"\\n\",test_sentences[2],\":\",predicted_labels_kmeans[2])"
   ]
  },
  {
   "cell_type": "markdown",
   "metadata": {},
   "source": [
    "# END............"
   ]
  },
  {
   "cell_type": "code",
   "execution_count": 90,
   "metadata": {},
   "outputs": [
    {
     "data": {
      "text/plain": [
       "(3, 223)"
      ]
     },
     "execution_count": 90,
     "metadata": {},
     "output_type": "execute_result"
    }
   ],
   "source": [
    "tarray = Test.toarray()\n",
    "tarray.shape"
   ]
  },
  {
   "cell_type": "code",
   "execution_count": 94,
   "metadata": {},
   "outputs": [
    {
     "name": "stdout",
     "output_type": "stream",
     "text": [
      "0, 0.0\n",
      "1, 0.0\n",
      "2, 0.0\n",
      "3, 0.0\n",
      "4, 0.0\n",
      "5, 0.0\n",
      "6, 0.0\n",
      "7, 0.0\n",
      "8, 0.0\n",
      "9, 0.0\n",
      "10, 0.0\n",
      "11, 0.0\n",
      "12, 0.0\n",
      "13, 0.0\n",
      "14, 0.0\n",
      "15, 0.0\n",
      "16, 0.0\n",
      "17, 0.0\n",
      "18, 0.0\n",
      "19, 0.0\n",
      "20, 0.0\n",
      "21, 0.0\n",
      "22, 0.0\n",
      "23, 0.0\n",
      "24, 0.0\n",
      "25, 0.0\n",
      "26, 0.0\n",
      "27, 0.0\n",
      "28, 0.0\n",
      "29, 0.0\n",
      "30, 0.0\n",
      "31, 0.0\n",
      "32, 0.0\n",
      "33, 0.0\n",
      "34, 0.0\n",
      "35, 0.0\n",
      "36, 0.0\n",
      "37, 0.0\n",
      "38, 0.0\n",
      "39, 0.0\n",
      "40, 0.0\n",
      "41, 0.6209517720912319\n",
      "42, 0.0\n",
      "43, 0.0\n",
      "44, 0.0\n",
      "45, 0.0\n",
      "46, 0.0\n",
      "47, 0.0\n",
      "48, 0.0\n",
      "49, 0.0\n",
      "50, 0.0\n",
      "51, 0.0\n",
      "52, 0.0\n",
      "53, 0.0\n",
      "54, 0.0\n",
      "55, 0.0\n",
      "56, 0.0\n",
      "57, 0.0\n",
      "58, 0.0\n",
      "59, 0.0\n",
      "60, 0.0\n",
      "61, 0.0\n",
      "62, 0.0\n",
      "63, 0.0\n",
      "64, 0.0\n",
      "65, 0.0\n",
      "66, 0.0\n",
      "67, 0.0\n",
      "68, 0.0\n",
      "69, 0.0\n",
      "70, 0.0\n",
      "71, 0.0\n",
      "72, 0.0\n",
      "73, 0.0\n",
      "74, 0.0\n",
      "75, 0.0\n",
      "76, 0.0\n",
      "77, 0.0\n",
      "78, 0.0\n",
      "79, 0.0\n",
      "80, 0.0\n",
      "81, 0.0\n",
      "82, 0.0\n",
      "83, 0.0\n",
      "84, 0.0\n",
      "85, 0.0\n",
      "86, 0.0\n",
      "87, 0.0\n",
      "88, 0.0\n",
      "89, 0.0\n",
      "90, 0.0\n",
      "91, 0.0\n",
      "92, 0.0\n",
      "93, 0.0\n",
      "94, 0.0\n",
      "95, 0.0\n",
      "96, 0.0\n",
      "97, 0.0\n",
      "98, 0.0\n",
      "99, 0.0\n",
      "100, 0.0\n",
      "101, 0.0\n",
      "102, 0.0\n",
      "103, 0.0\n",
      "104, 0.0\n",
      "105, 0.0\n",
      "106, 0.0\n",
      "107, 0.0\n",
      "108, 0.0\n",
      "109, 0.0\n",
      "110, 0.0\n",
      "111, 0.0\n",
      "112, 0.0\n",
      "113, 0.0\n",
      "114, 0.0\n",
      "115, 0.0\n",
      "116, 0.0\n",
      "117, 0.0\n",
      "118, 0.0\n",
      "119, 0.0\n",
      "120, 0.0\n",
      "121, 0.0\n",
      "122, 0.0\n",
      "123, 0.0\n",
      "124, 0.0\n",
      "125, 0.0\n",
      "126, 0.0\n",
      "127, 0.0\n",
      "128, 0.0\n",
      "129, 0.0\n",
      "130, 0.0\n",
      "131, 0.0\n",
      "132, 0.0\n",
      "133, 0.0\n",
      "134, 0.0\n",
      "135, 0.0\n",
      "136, 0.0\n",
      "137, 0.0\n",
      "138, 0.0\n",
      "139, 0.0\n",
      "140, 0.0\n",
      "141, 0.0\n",
      "142, 0.0\n",
      "143, 0.0\n",
      "144, 0.0\n",
      "145, 0.0\n",
      "146, 0.0\n",
      "147, 0.0\n",
      "148, 0.0\n",
      "149, 0.0\n",
      "150, 0.0\n",
      "151, 0.0\n",
      "152, 0.0\n",
      "153, 0.0\n",
      "154, 0.0\n",
      "155, 0.0\n",
      "156, 0.0\n",
      "157, 0.0\n",
      "158, 0.0\n",
      "159, 0.0\n",
      "160, 0.0\n",
      "161, 0.0\n",
      "162, 0.0\n",
      "163, 0.0\n",
      "164, 0.0\n",
      "165, 0.7838487715986796\n",
      "166, 0.0\n",
      "167, 0.0\n",
      "168, 0.0\n",
      "169, 0.0\n",
      "170, 0.0\n",
      "171, 0.0\n",
      "172, 0.0\n",
      "173, 0.0\n",
      "174, 0.0\n",
      "175, 0.0\n",
      "176, 0.0\n",
      "177, 0.0\n",
      "178, 0.0\n",
      "179, 0.0\n",
      "180, 0.0\n",
      "181, 0.0\n",
      "182, 0.0\n",
      "183, 0.0\n",
      "184, 0.0\n",
      "185, 0.0\n",
      "186, 0.0\n",
      "187, 0.0\n",
      "188, 0.0\n",
      "189, 0.0\n",
      "190, 0.0\n",
      "191, 0.0\n",
      "192, 0.0\n",
      "193, 0.0\n",
      "194, 0.0\n",
      "195, 0.0\n",
      "196, 0.0\n",
      "197, 0.0\n",
      "198, 0.0\n",
      "199, 0.0\n",
      "200, 0.0\n",
      "201, 0.0\n",
      "202, 0.0\n",
      "203, 0.0\n",
      "204, 0.0\n",
      "205, 0.0\n",
      "206, 0.0\n",
      "207, 0.0\n",
      "208, 0.0\n",
      "209, 0.0\n",
      "210, 0.0\n",
      "211, 0.0\n",
      "212, 0.0\n",
      "213, 0.0\n",
      "214, 0.0\n",
      "215, 0.0\n",
      "216, 0.0\n",
      "217, 0.0\n",
      "218, 0.0\n",
      "219, 0.0\n",
      "220, 0.0\n",
      "221, 0.0\n",
      "222, 0.0\n"
     ]
    }
   ],
   "source": [
    "for i in range(tarray.shape[1]):\n",
    "    print(\"{0}, {1}\".format(i, tarray[0][i]))#, end=\"||||\")"
   ]
  },
  {
   "cell_type": "code",
   "execution_count": null,
   "metadata": {},
   "outputs": [],
   "source": []
  },
  {
   "cell_type": "code",
   "execution_count": null,
   "metadata": {},
   "outputs": [],
   "source": []
  },
  {
   "cell_type": "code",
   "execution_count": 87,
   "metadata": {},
   "outputs": [
    {
     "data": {
      "text/plain": [
       "1"
      ]
     },
     "execution_count": 87,
     "metadata": {},
     "output_type": "execute_result"
    }
   ],
   "source": [
    "xx = predicted_labels_kmeans[0]\n",
    "xx"
   ]
  },
  {
   "cell_type": "code",
   "execution_count": 33,
   "metadata": {},
   "outputs": [
    {
     "name": "stdout",
     "output_type": "stream",
     "text": [
      "[2 2 2 2 2 2 2 2 2 2 0 0 0 0 0 0 0 0 0 0 1 1 1 1 0 1 1 1 1 1]\n",
      "30\n"
     ]
    },
    {
     "data": {
      "text/plain": [
       "0"
      ]
     },
     "execution_count": 33,
     "metadata": {},
     "output_type": "execute_result"
    }
   ],
   "source": [
    "print(modelkmeans.labels_)\n",
    "print(len(modelkmeans.labels_))\n",
    "modelkmeans"
   ]
  },
  {
   "cell_type": "code",
   "execution_count": 53,
   "metadata": {},
   "outputs": [],
   "source": [
    "##Now execute the below code to get the centroids and features\n",
    "order_centroids = modelkmeans.cluster_centers_.argsort()[:, ::-1]"
   ]
  },
  {
   "cell_type": "code",
   "execution_count": 58,
   "metadata": {},
   "outputs": [
    {
     "name": "stdout",
     "output_type": "stream",
     "text": [
      "(3, 223)\n",
      "[  7 108 120 109 202 101  50 115 169  12]\n"
     ]
    }
   ],
   "source": [
    "print(order_centroids.shape)\n",
    "print(order_centroids[0][:10])"
   ]
  },
  {
   "cell_type": "code",
   "execution_count": 55,
   "metadata": {},
   "outputs": [],
   "source": [
    "terms = vectorizer.get_feature_names()"
   ]
  },
  {
   "cell_type": "code",
   "execution_count": 56,
   "metadata": {},
   "outputs": [
    {
     "name": "stdout",
     "output_type": "stream",
     "text": [
      "223\n",
      "['ability', 'access', 'action', 'advance', 'advanced', 'advancement', 'agent', 'ai', 'allows', 'analytical']\n"
     ]
    }
   ],
   "source": [
    "print(len(terms))\n",
    "print(terms[:10])"
   ]
  },
  {
   "cell_type": "code",
   "execution_count": 62,
   "metadata": {},
   "outputs": [
    {
     "name": "stdout",
     "output_type": "stream",
     "text": [
      "\n",
      "Cluster 0------------------------------\n",
      "ai,intelligence,machine,intelligent,success,human,computer,learning,research,artificial,\n",
      "Cluster 1------------------------------\n",
      "property,chemical,element,atom,substance,chemistry,science,compound,reaction,called,\n",
      "Cluster 2------------------------------\n",
      "team,run,ball,inning,bat,score,batsman,cricket,opponent,main,"
     ]
    }
   ],
   "source": [
    "for i in range(3):\n",
    "    print(\"\\nCluster {0}------------------------------\".format(i))\n",
    "    for index in order_centroids[i, :10]:\n",
    "        print(\"{0}\".format(terms[index]), end=\",\")"
   ]
  },
  {
   "cell_type": "code",
   "execution_count": 68,
   "metadata": {},
   "outputs": [
    {
     "data": {
      "text/plain": [
       "array([  7, 108, 120, 109, 202, 101,  50, 115, 169,  12,  79,   6, 144,\n",
       "        38, 127,   2, 113, 210,  95, 209, 188,  83, 212,  40, 137,  82,\n",
       "        10,  72,  81, 105,  98,  37, 159, 123, 141,  91,   8,  66,  60,\n",
       "       166,   0, 160,  84, 218, 181,  96,   5, 211, 167,  16,  35, 192,\n",
       "        53,  71,  55, 177, 198, 132,   9, 161,  45, 111, 207, 184, 173,\n",
       "       186,  75, 114,  85, 145,  58, 118, 194,   1,  59,   4,   3, 216,\n",
       "       125, 221, 171, 128, 178, 182, 170,  65, 200, 189, 191,  87, 217,\n",
       "       134, 133, 140, 154, 163, 136,  90, 112,  52,  43,  33,  28,  11,\n",
       "        19,  18,  51,  17,  15, 199,  14,  13,  54, 208, 197, 213,  29,\n",
       "        56,  57, 214, 215, 219, 196,  61, 220,  62,  63,  64,  49,  48,\n",
       "        47,  20,  27,  30,  31,  32,  26, 195,  25,  24,  34, 206,  23,\n",
       "        36, 205, 204,  39, 203,  41,  42,  22,  44,  21, 201,  46, 162,\n",
       "        80,  67, 165, 117, 119, 121, 122, 172, 124, 126, 129, 130, 131,\n",
       "       135, 168, 138, 139, 142,  68, 143, 164, 146, 147, 148, 149, 150,\n",
       "       151, 152, 153, 155, 156, 157, 158, 116, 174, 175, 110,  69,  70,\n",
       "       193,  73,  74,  76,  77,  78, 190, 187,  86,  88,  89, 185,  92,\n",
       "        93,  94, 183,  97,  99, 100, 180, 102, 103, 104, 179, 106, 107,\n",
       "       176, 222], dtype=int64)"
      ]
     },
     "execution_count": 68,
     "metadata": {},
     "output_type": "execute_result"
    }
   ],
   "source": [
    "order_centroids[0]"
   ]
  },
  {
   "cell_type": "code",
   "execution_count": 69,
   "metadata": {},
   "outputs": [
    {
     "data": {
      "text/plain": [
       "array([162,  41,  74,  13, 201,  42, 177,  49, 165,  33,  72,  67, 215,\n",
       "       203, 122, 222, 135, 106,  93,  48,  39,  31, 149, 197, 126,  36,\n",
       "        94,  32, 103,  26, 148, 198,  27, 102, 104, 213,  51, 168,  64,\n",
       "       143,  25, 146, 116,  73, 110, 172,  78, 142, 156,  80, 157, 193,\n",
       "       187,  47, 117, 164, 183,  23, 132,  62, 219, 204,  14,  19,  54,\n",
       "       190,  55,  90, 137,  43,  52,  81,   6,  79,   7,   8,  77,  46,\n",
       "         5,  75,   9,  10,  34,  11,  12,  76,  82,  70,   4,   3,   2,\n",
       "        83,  84,  85,  86,  87,  88,  89,  38,   1,  71,  69,  30,  58,\n",
       "        22,  50,  45,  21,  20,  44,  53,  24,  18,  28,  56,  57,  59,\n",
       "        91,  17,  60,  61,  29,  37,  63,  16,  65,  66,  15,  40,  68,\n",
       "        35, 111,  92, 189, 186, 185, 184, 182, 181, 180, 179, 178, 176,\n",
       "       175, 174, 173, 171, 170, 169, 167, 166, 163, 161, 188, 191, 159,\n",
       "       192, 220, 218, 217, 216, 214, 212, 211, 210, 209, 208, 207, 206,\n",
       "       205, 202, 200, 199, 196, 195, 194, 160, 158,  95, 124, 121, 120,\n",
       "       119, 118, 115, 114, 113, 112, 221, 109, 108, 107, 105, 101, 100,\n",
       "        99,  98,  97,  96, 123, 125, 155, 127, 154, 153, 152, 151, 150,\n",
       "       147, 145, 144, 141, 140, 139, 138, 136, 134, 133, 131, 130, 129,\n",
       "       128,   0], dtype=int64)"
      ]
     },
     "execution_count": 69,
     "metadata": {},
     "output_type": "execute_result"
    }
   ],
   "source": [
    "order_centroids[1]"
   ]
  },
  {
   "cell_type": "code",
   "execution_count": null,
   "metadata": {},
   "outputs": [],
   "source": []
  },
  {
   "cell_type": "code",
   "execution_count": null,
   "metadata": {},
   "outputs": [],
   "source": []
  },
  {
   "cell_type": "markdown",
   "metadata": {},
   "source": [
    "## test 3 --- Good one"
   ]
  },
  {
   "cell_type": "code",
   "execution_count": 95,
   "metadata": {},
   "outputs": [],
   "source": [
    "features_all = vectorizer.get_feature_names()"
   ]
  },
  {
   "cell_type": "code",
   "execution_count": 98,
   "metadata": {},
   "outputs": [
    {
     "name": "stdout",
     "output_type": "stream",
     "text": [
      "<class 'list'>\n",
      "223\n",
      "['ability', 'access', 'action', 'advance', 'advanced', 'advancement', 'agent', 'ai', 'allows', 'analytical']\n"
     ]
    }
   ],
   "source": [
    "print(type(features_all))\n",
    "print(len(features_all))\n",
    "print(features_all[:10])"
   ]
  },
  {
   "cell_type": "code",
   "execution_count": 100,
   "metadata": {},
   "outputs": [],
   "source": [
    "#create data frame for saving it\n",
    "import pandas as pd"
   ]
  },
  {
   "cell_type": "code",
   "execution_count": 117,
   "metadata": {},
   "outputs": [
    {
     "data": {
      "text/html": [
       "<div>\n",
       "<style scoped>\n",
       "    .dataframe tbody tr th:only-of-type {\n",
       "        vertical-align: middle;\n",
       "    }\n",
       "\n",
       "    .dataframe tbody tr th {\n",
       "        vertical-align: top;\n",
       "    }\n",
       "\n",
       "    .dataframe thead th {\n",
       "        text-align: right;\n",
       "    }\n",
       "</style>\n",
       "<table border=\"1\" class=\"dataframe\">\n",
       "  <thead>\n",
       "    <tr style=\"text-align: right;\">\n",
       "      <th></th>\n",
       "      <th>ability</th>\n",
       "      <th>access</th>\n",
       "      <th>action</th>\n",
       "      <th>advance</th>\n",
       "      <th>advanced</th>\n",
       "      <th>advancement</th>\n",
       "      <th>agent</th>\n",
       "      <th>ai</th>\n",
       "      <th>allows</th>\n",
       "      <th>analytical</th>\n",
       "      <th>...</th>\n",
       "      <th>topic</th>\n",
       "      <th>toss</th>\n",
       "      <th>transformation</th>\n",
       "      <th>truly</th>\n",
       "      <th>uncharged</th>\n",
       "      <th>understand</th>\n",
       "      <th>unit</th>\n",
       "      <th>using</th>\n",
       "      <th>verifiable</th>\n",
       "      <th>wanted</th>\n",
       "    </tr>\n",
       "  </thead>\n",
       "  <tbody>\n",
       "  </tbody>\n",
       "</table>\n",
       "<p>0 rows × 223 columns</p>\n",
       "</div>"
      ],
      "text/plain": [
       "Empty DataFrame\n",
       "Columns: [ability, access, action, advance, advanced, advancement, agent, ai, allows, analytical, animal, apiece, artificial, atom, atomic, attempting, autonomous, bail, ball, basic, bat, batsman, batting, bear, begin, behaviour, biology, bond, boundary, bowled, bowler, branch, bridge, called, captain, car, central, challenging, chance, change, charged, chemical, chemistry, cloud, coin, commercial, common, composed, composition, compound, computer, configuration, consists, contributed, core, create, cricket, cross, data, deep, defines, delivers, dense, determine, determined, developed, device, different, directly, dislodges, dismissal, drone, electron, electronegativity, element, enabled, end, enter, entity, environment, envisaged, essential, exhibited, expert, extract, faster, fewer, field, fielder, fielding, form, function, game, gas, geology, goal, growth, hard, helping, hit, ...]\n",
       "Index: []\n",
       "\n",
       "[0 rows x 223 columns]"
      ]
     },
     "execution_count": 117,
     "metadata": {},
     "output_type": "execute_result"
    }
   ],
   "source": [
    "df = pd.DataFrame(columns=features_all)\n",
    "df"
   ]
  },
  {
   "cell_type": "code",
   "execution_count": 118,
   "metadata": {},
   "outputs": [
    {
     "data": {
      "text/plain": [
       "(3, 223)"
      ]
     },
     "execution_count": 118,
     "metadata": {},
     "output_type": "execute_result"
    }
   ],
   "source": [
    "cluster_coordinates = modelkmeans.cluster_centers_\n",
    "cluster_coordinates.shape"
   ]
  },
  {
   "cell_type": "code",
   "execution_count": 119,
   "metadata": {},
   "outputs": [],
   "source": [
    "#cluster_coordinates[0]"
   ]
  },
  {
   "cell_type": "code",
   "execution_count": 120,
   "metadata": {},
   "outputs": [],
   "source": [
    "for row_num in range(cluster_coordinates.shape[0]):\n",
    "    df.loc[row_num] = cluster_coordinates[row_num]"
   ]
  },
  {
   "cell_type": "code",
   "execution_count": 121,
   "metadata": {},
   "outputs": [
    {
     "data": {
      "text/html": [
       "<div>\n",
       "<style scoped>\n",
       "    .dataframe tbody tr th:only-of-type {\n",
       "        vertical-align: middle;\n",
       "    }\n",
       "\n",
       "    .dataframe tbody tr th {\n",
       "        vertical-align: top;\n",
       "    }\n",
       "\n",
       "    .dataframe thead th {\n",
       "        text-align: right;\n",
       "    }\n",
       "</style>\n",
       "<table border=\"1\" class=\"dataframe\">\n",
       "  <thead>\n",
       "    <tr style=\"text-align: right;\">\n",
       "      <th></th>\n",
       "      <th>ability</th>\n",
       "      <th>access</th>\n",
       "      <th>action</th>\n",
       "      <th>advance</th>\n",
       "      <th>advanced</th>\n",
       "      <th>advancement</th>\n",
       "      <th>agent</th>\n",
       "      <th>ai</th>\n",
       "      <th>allows</th>\n",
       "      <th>analytical</th>\n",
       "      <th>...</th>\n",
       "      <th>topic</th>\n",
       "      <th>toss</th>\n",
       "      <th>transformation</th>\n",
       "      <th>truly</th>\n",
       "      <th>uncharged</th>\n",
       "      <th>understand</th>\n",
       "      <th>unit</th>\n",
       "      <th>using</th>\n",
       "      <th>verifiable</th>\n",
       "      <th>wanted</th>\n",
       "    </tr>\n",
       "  </thead>\n",
       "  <tbody>\n",
       "    <tr>\n",
       "      <th>0</th>\n",
       "      <td>0.026667</td>\n",
       "      <td>0.022093</td>\n",
       "      <td>0.056713</td>\n",
       "      <td>0.022093</td>\n",
       "      <td>0.022093</td>\n",
       "      <td>0.026473</td>\n",
       "      <td>0.056713</td>\n",
       "      <td>0.105568</td>\n",
       "      <td>0.02828</td>\n",
       "      <td>0.022192</td>\n",
       "      <td>...</td>\n",
       "      <td>0.000000</td>\n",
       "      <td>0.000000</td>\n",
       "      <td>0.00000</td>\n",
       "      <td>0.021861</td>\n",
       "      <td>0.020859</td>\n",
       "      <td>0.026667</td>\n",
       "      <td>0.000000</td>\n",
       "      <td>0.000000</td>\n",
       "      <td>0.021861</td>\n",
       "      <td>0.000000</td>\n",
       "    </tr>\n",
       "    <tr>\n",
       "      <th>1</th>\n",
       "      <td>0.000000</td>\n",
       "      <td>0.000000</td>\n",
       "      <td>0.000000</td>\n",
       "      <td>0.000000</td>\n",
       "      <td>0.000000</td>\n",
       "      <td>0.000000</td>\n",
       "      <td>0.000000</td>\n",
       "      <td>0.000000</td>\n",
       "      <td>0.00000</td>\n",
       "      <td>0.000000</td>\n",
       "      <td>...</td>\n",
       "      <td>0.032521</td>\n",
       "      <td>0.000000</td>\n",
       "      <td>0.04367</td>\n",
       "      <td>0.000000</td>\n",
       "      <td>0.000000</td>\n",
       "      <td>0.000000</td>\n",
       "      <td>0.030275</td>\n",
       "      <td>0.000000</td>\n",
       "      <td>0.000000</td>\n",
       "      <td>0.039948</td>\n",
       "    </tr>\n",
       "    <tr>\n",
       "      <th>2</th>\n",
       "      <td>0.000000</td>\n",
       "      <td>0.000000</td>\n",
       "      <td>0.000000</td>\n",
       "      <td>0.000000</td>\n",
       "      <td>0.000000</td>\n",
       "      <td>0.000000</td>\n",
       "      <td>0.000000</td>\n",
       "      <td>0.000000</td>\n",
       "      <td>0.00000</td>\n",
       "      <td>0.000000</td>\n",
       "      <td>...</td>\n",
       "      <td>0.000000</td>\n",
       "      <td>0.032034</td>\n",
       "      <td>0.00000</td>\n",
       "      <td>0.000000</td>\n",
       "      <td>0.000000</td>\n",
       "      <td>0.000000</td>\n",
       "      <td>0.000000</td>\n",
       "      <td>0.031332</td>\n",
       "      <td>0.000000</td>\n",
       "      <td>0.000000</td>\n",
       "    </tr>\n",
       "  </tbody>\n",
       "</table>\n",
       "<p>3 rows × 223 columns</p>\n",
       "</div>"
      ],
      "text/plain": [
       "    ability    access    action   advance  advanced  advancement     agent  \\\n",
       "0  0.026667  0.022093  0.056713  0.022093  0.022093     0.026473  0.056713   \n",
       "1  0.000000  0.000000  0.000000  0.000000  0.000000     0.000000  0.000000   \n",
       "2  0.000000  0.000000  0.000000  0.000000  0.000000     0.000000  0.000000   \n",
       "\n",
       "         ai   allows  analytical  ...     topic      toss  transformation  \\\n",
       "0  0.105568  0.02828    0.022192  ...  0.000000  0.000000         0.00000   \n",
       "1  0.000000  0.00000    0.000000  ...  0.032521  0.000000         0.04367   \n",
       "2  0.000000  0.00000    0.000000  ...  0.000000  0.032034         0.00000   \n",
       "\n",
       "      truly  uncharged  understand      unit     using  verifiable    wanted  \n",
       "0  0.021861   0.020859    0.026667  0.000000  0.000000    0.021861  0.000000  \n",
       "1  0.000000   0.000000    0.000000  0.030275  0.000000    0.000000  0.039948  \n",
       "2  0.000000   0.000000    0.000000  0.000000  0.031332    0.000000  0.000000  \n",
       "\n",
       "[3 rows x 223 columns]"
      ]
     },
     "execution_count": 121,
     "metadata": {},
     "output_type": "execute_result"
    }
   ],
   "source": [
    "df"
   ]
  },
  {
   "cell_type": "code",
   "execution_count": 123,
   "metadata": {},
   "outputs": [
    {
     "data": {
      "text/plain": [
       "3"
      ]
     },
     "execution_count": 123,
     "metadata": {},
     "output_type": "execute_result"
    }
   ],
   "source": [
    "test_start_index = df.shape[0]\n",
    "test_start_index"
   ]
  },
  {
   "cell_type": "code",
   "execution_count": 124,
   "metadata": {},
   "outputs": [],
   "source": [
    "for row_num in range(tarray.shape[0]):\n",
    "    #print(row_num)\n",
    "    df.loc[test_start_index + row_num] = tarray[row_num]"
   ]
  },
  {
   "cell_type": "code",
   "execution_count": 125,
   "metadata": {},
   "outputs": [
    {
     "data": {
      "text/html": [
       "<div>\n",
       "<style scoped>\n",
       "    .dataframe tbody tr th:only-of-type {\n",
       "        vertical-align: middle;\n",
       "    }\n",
       "\n",
       "    .dataframe tbody tr th {\n",
       "        vertical-align: top;\n",
       "    }\n",
       "\n",
       "    .dataframe thead th {\n",
       "        text-align: right;\n",
       "    }\n",
       "</style>\n",
       "<table border=\"1\" class=\"dataframe\">\n",
       "  <thead>\n",
       "    <tr style=\"text-align: right;\">\n",
       "      <th></th>\n",
       "      <th>ability</th>\n",
       "      <th>access</th>\n",
       "      <th>action</th>\n",
       "      <th>advance</th>\n",
       "      <th>advanced</th>\n",
       "      <th>advancement</th>\n",
       "      <th>agent</th>\n",
       "      <th>ai</th>\n",
       "      <th>allows</th>\n",
       "      <th>analytical</th>\n",
       "      <th>...</th>\n",
       "      <th>topic</th>\n",
       "      <th>toss</th>\n",
       "      <th>transformation</th>\n",
       "      <th>truly</th>\n",
       "      <th>uncharged</th>\n",
       "      <th>understand</th>\n",
       "      <th>unit</th>\n",
       "      <th>using</th>\n",
       "      <th>verifiable</th>\n",
       "      <th>wanted</th>\n",
       "    </tr>\n",
       "  </thead>\n",
       "  <tbody>\n",
       "    <tr>\n",
       "      <th>0</th>\n",
       "      <td>0.026667</td>\n",
       "      <td>0.022093</td>\n",
       "      <td>0.056713</td>\n",
       "      <td>0.022093</td>\n",
       "      <td>0.022093</td>\n",
       "      <td>0.026473</td>\n",
       "      <td>0.056713</td>\n",
       "      <td>0.105568</td>\n",
       "      <td>0.02828</td>\n",
       "      <td>0.022192</td>\n",
       "      <td>...</td>\n",
       "      <td>0.000000</td>\n",
       "      <td>0.000000</td>\n",
       "      <td>0.00000</td>\n",
       "      <td>0.021861</td>\n",
       "      <td>0.020859</td>\n",
       "      <td>0.026667</td>\n",
       "      <td>0.000000</td>\n",
       "      <td>0.000000</td>\n",
       "      <td>0.021861</td>\n",
       "      <td>0.000000</td>\n",
       "    </tr>\n",
       "    <tr>\n",
       "      <th>1</th>\n",
       "      <td>0.000000</td>\n",
       "      <td>0.000000</td>\n",
       "      <td>0.000000</td>\n",
       "      <td>0.000000</td>\n",
       "      <td>0.000000</td>\n",
       "      <td>0.000000</td>\n",
       "      <td>0.000000</td>\n",
       "      <td>0.000000</td>\n",
       "      <td>0.00000</td>\n",
       "      <td>0.000000</td>\n",
       "      <td>...</td>\n",
       "      <td>0.032521</td>\n",
       "      <td>0.000000</td>\n",
       "      <td>0.04367</td>\n",
       "      <td>0.000000</td>\n",
       "      <td>0.000000</td>\n",
       "      <td>0.000000</td>\n",
       "      <td>0.030275</td>\n",
       "      <td>0.000000</td>\n",
       "      <td>0.000000</td>\n",
       "      <td>0.039948</td>\n",
       "    </tr>\n",
       "    <tr>\n",
       "      <th>2</th>\n",
       "      <td>0.000000</td>\n",
       "      <td>0.000000</td>\n",
       "      <td>0.000000</td>\n",
       "      <td>0.000000</td>\n",
       "      <td>0.000000</td>\n",
       "      <td>0.000000</td>\n",
       "      <td>0.000000</td>\n",
       "      <td>0.000000</td>\n",
       "      <td>0.00000</td>\n",
       "      <td>0.000000</td>\n",
       "      <td>...</td>\n",
       "      <td>0.000000</td>\n",
       "      <td>0.032034</td>\n",
       "      <td>0.00000</td>\n",
       "      <td>0.000000</td>\n",
       "      <td>0.000000</td>\n",
       "      <td>0.000000</td>\n",
       "      <td>0.000000</td>\n",
       "      <td>0.031332</td>\n",
       "      <td>0.000000</td>\n",
       "      <td>0.000000</td>\n",
       "    </tr>\n",
       "    <tr>\n",
       "      <th>3</th>\n",
       "      <td>0.000000</td>\n",
       "      <td>0.000000</td>\n",
       "      <td>0.000000</td>\n",
       "      <td>0.000000</td>\n",
       "      <td>0.000000</td>\n",
       "      <td>0.000000</td>\n",
       "      <td>0.000000</td>\n",
       "      <td>0.000000</td>\n",
       "      <td>0.00000</td>\n",
       "      <td>0.000000</td>\n",
       "      <td>...</td>\n",
       "      <td>0.000000</td>\n",
       "      <td>0.000000</td>\n",
       "      <td>0.00000</td>\n",
       "      <td>0.000000</td>\n",
       "      <td>0.000000</td>\n",
       "      <td>0.000000</td>\n",
       "      <td>0.000000</td>\n",
       "      <td>0.000000</td>\n",
       "      <td>0.000000</td>\n",
       "      <td>0.000000</td>\n",
       "    </tr>\n",
       "    <tr>\n",
       "      <th>4</th>\n",
       "      <td>0.000000</td>\n",
       "      <td>0.000000</td>\n",
       "      <td>0.000000</td>\n",
       "      <td>0.000000</td>\n",
       "      <td>0.000000</td>\n",
       "      <td>0.000000</td>\n",
       "      <td>0.000000</td>\n",
       "      <td>0.000000</td>\n",
       "      <td>0.00000</td>\n",
       "      <td>0.000000</td>\n",
       "      <td>...</td>\n",
       "      <td>0.000000</td>\n",
       "      <td>0.000000</td>\n",
       "      <td>0.00000</td>\n",
       "      <td>0.000000</td>\n",
       "      <td>0.000000</td>\n",
       "      <td>0.000000</td>\n",
       "      <td>0.000000</td>\n",
       "      <td>0.000000</td>\n",
       "      <td>0.000000</td>\n",
       "      <td>0.000000</td>\n",
       "    </tr>\n",
       "    <tr>\n",
       "      <th>5</th>\n",
       "      <td>0.000000</td>\n",
       "      <td>0.000000</td>\n",
       "      <td>0.000000</td>\n",
       "      <td>0.000000</td>\n",
       "      <td>0.000000</td>\n",
       "      <td>0.000000</td>\n",
       "      <td>0.000000</td>\n",
       "      <td>0.000000</td>\n",
       "      <td>0.00000</td>\n",
       "      <td>0.000000</td>\n",
       "      <td>...</td>\n",
       "      <td>0.000000</td>\n",
       "      <td>0.000000</td>\n",
       "      <td>0.00000</td>\n",
       "      <td>0.000000</td>\n",
       "      <td>0.000000</td>\n",
       "      <td>0.000000</td>\n",
       "      <td>0.000000</td>\n",
       "      <td>0.000000</td>\n",
       "      <td>0.000000</td>\n",
       "      <td>0.000000</td>\n",
       "    </tr>\n",
       "  </tbody>\n",
       "</table>\n",
       "<p>6 rows × 223 columns</p>\n",
       "</div>"
      ],
      "text/plain": [
       "    ability    access    action   advance  advanced  advancement     agent  \\\n",
       "0  0.026667  0.022093  0.056713  0.022093  0.022093     0.026473  0.056713   \n",
       "1  0.000000  0.000000  0.000000  0.000000  0.000000     0.000000  0.000000   \n",
       "2  0.000000  0.000000  0.000000  0.000000  0.000000     0.000000  0.000000   \n",
       "3  0.000000  0.000000  0.000000  0.000000  0.000000     0.000000  0.000000   \n",
       "4  0.000000  0.000000  0.000000  0.000000  0.000000     0.000000  0.000000   \n",
       "5  0.000000  0.000000  0.000000  0.000000  0.000000     0.000000  0.000000   \n",
       "\n",
       "         ai   allows  analytical  ...     topic      toss  transformation  \\\n",
       "0  0.105568  0.02828    0.022192  ...  0.000000  0.000000         0.00000   \n",
       "1  0.000000  0.00000    0.000000  ...  0.032521  0.000000         0.04367   \n",
       "2  0.000000  0.00000    0.000000  ...  0.000000  0.032034         0.00000   \n",
       "3  0.000000  0.00000    0.000000  ...  0.000000  0.000000         0.00000   \n",
       "4  0.000000  0.00000    0.000000  ...  0.000000  0.000000         0.00000   \n",
       "5  0.000000  0.00000    0.000000  ...  0.000000  0.000000         0.00000   \n",
       "\n",
       "      truly  uncharged  understand      unit     using  verifiable    wanted  \n",
       "0  0.021861   0.020859    0.026667  0.000000  0.000000    0.021861  0.000000  \n",
       "1  0.000000   0.000000    0.000000  0.030275  0.000000    0.000000  0.039948  \n",
       "2  0.000000   0.000000    0.000000  0.000000  0.031332    0.000000  0.000000  \n",
       "3  0.000000   0.000000    0.000000  0.000000  0.000000    0.000000  0.000000  \n",
       "4  0.000000   0.000000    0.000000  0.000000  0.000000    0.000000  0.000000  \n",
       "5  0.000000   0.000000    0.000000  0.000000  0.000000    0.000000  0.000000  \n",
       "\n",
       "[6 rows x 223 columns]"
      ]
     },
     "execution_count": 125,
     "metadata": {},
     "output_type": "execute_result"
    }
   ],
   "source": [
    "df"
   ]
  },
  {
   "cell_type": "code",
   "execution_count": 135,
   "metadata": {},
   "outputs": [],
   "source": [
    "single_prediction_result = df.loc[0]"
   ]
  },
  {
   "cell_type": "code",
   "execution_count": 161,
   "metadata": {},
   "outputs": [
    {
     "data": {
      "text/plain": [
       "ai              0.105568\n",
       "intelligence    0.102370\n",
       "machine         0.098083\n",
       "intelligent     0.074862\n",
       "success         0.069901\n",
       "Name: 0, dtype: float64"
      ]
     },
     "execution_count": 161,
     "metadata": {},
     "output_type": "execute_result"
    }
   ],
   "source": [
    "single_prediction_result.sort_values(ascending=False)[:5]"
   ]
  },
  {
   "cell_type": "code",
   "execution_count": null,
   "metadata": {},
   "outputs": [],
   "source": []
  },
  {
   "cell_type": "markdown",
   "metadata": {},
   "source": [
    "### good one test ends here"
   ]
  },
  {
   "cell_type": "code",
   "execution_count": null,
   "metadata": {},
   "outputs": [],
   "source": []
  },
  {
   "cell_type": "code",
   "execution_count": null,
   "metadata": {},
   "outputs": [],
   "source": []
  },
  {
   "cell_type": "code",
   "execution_count": 140,
   "metadata": {},
   "outputs": [],
   "source": [
    "def greater_vals(val):\n",
    "    if val > 0:\n",
    "        return val"
   ]
  },
  {
   "cell_type": "code",
   "execution_count": 143,
   "metadata": {},
   "outputs": [
    {
     "data": {
      "text/plain": [
       "ability            True\n",
       "access             True\n",
       "action             True\n",
       "advance            True\n",
       "advanced           True\n",
       "advancement        True\n",
       "agent              True\n",
       "ai                 True\n",
       "allows             True\n",
       "analytical         True\n",
       "animal             True\n",
       "apiece            False\n",
       "artificial         True\n",
       "atom              False\n",
       "atomic            False\n",
       "attempting        False\n",
       "autonomous         True\n",
       "bail              False\n",
       "ball              False\n",
       "basic             False\n",
       "bat               False\n",
       "batsman           False\n",
       "batting           False\n",
       "bear              False\n",
       "begin             False\n",
       "behaviour         False\n",
       "biology           False\n",
       "bond              False\n",
       "boundary          False\n",
       "bowled            False\n",
       "                  ...  \n",
       "state             False\n",
       "statistical        True\n",
       "strike            False\n",
       "striker           False\n",
       "structure         False\n",
       "study              True\n",
       "stump             False\n",
       "subproblems        True\n",
       "substance         False\n",
       "success            True\n",
       "suitable          False\n",
       "surrounded        False\n",
       "swap              False\n",
       "swapping          False\n",
       "systems            True\n",
       "team              False\n",
       "technique          True\n",
       "technology         True\n",
       "thing              True\n",
       "tool               True\n",
       "topic             False\n",
       "toss              False\n",
       "transformation    False\n",
       "truly              True\n",
       "uncharged          True\n",
       "understand         True\n",
       "unit              False\n",
       "using             False\n",
       "verifiable         True\n",
       "wanted            False\n",
       "Name: 0, Length: 223, dtype: bool"
      ]
     },
     "execution_count": 143,
     "metadata": {},
     "output_type": "execute_result"
    }
   ],
   "source": [
    "greaters = single_prediction_result.apply(lambda x: greater_vals(x))\n",
    "pd.notna(greaters)"
   ]
  },
  {
   "cell_type": "code",
   "execution_count": null,
   "metadata": {},
   "outputs": [],
   "source": []
  }
 ],
 "metadata": {
  "kernelspec": {
   "display_name": "Python 3",
   "language": "python",
   "name": "python3"
  },
  "language_info": {
   "codemirror_mode": {
    "name": "ipython",
    "version": 3
   },
   "file_extension": ".py",
   "mimetype": "text/x-python",
   "name": "python",
   "nbconvert_exporter": "python",
   "pygments_lexer": "ipython3",
   "version": "3.7.3"
  }
 },
 "nbformat": 4,
 "nbformat_minor": 2
}
